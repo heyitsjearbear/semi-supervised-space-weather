{
 "cells": [
  {
   "cell_type": "code",
   "execution_count": 1,
   "metadata": {},
   "outputs": [
    {
     "name": "stderr",
     "output_type": "stream",
     "text": [
      "c:\\Users\\jereb\\anaconda3\\envs\\tensor\\lib\\site-packages\\numpy\\_distributor_init.py:30: UserWarning: loaded more than 1 DLL from .libs:\n",
      "c:\\Users\\jereb\\anaconda3\\envs\\tensor\\lib\\site-packages\\numpy\\.libs\\libopenblas.EL2C6PLE4ZYW3ECEVIV3OXXGRN2NRFM2.gfortran-win_amd64.dll\n",
      "c:\\Users\\jereb\\anaconda3\\envs\\tensor\\lib\\site-packages\\numpy\\.libs\\libopenblas.XWYDX2IKJW2NMTWSFYNGFUWKQU3LYTCZ.gfortran-win_amd64.dll\n",
      "  warnings.warn(\"loaded more than 1 DLL from .libs:\"\n"
     ]
    }
   ],
   "source": [
    "import matplotlib.pyplot as plt\n",
    "import numpy as np\n",
    "import PIL\n",
    "import tensorflow as tf\n",
    "import pandas as pd\n",
    "import os\n",
    "from tensorflow import keras\n",
    "from tensorflow.keras import layers\n",
    "from tensorflow.keras.layers import Conv2D, MaxPooling2D, Flatten, Dense, Dropout\n",
    "from tensorflow.keras.models import Sequential\n",
    "from sklearn.model_selection import train_test_split\n",
    "from tensorflow.keras.preprocessing.image import ImageDataGenerator\n",
    "import shutil\n",
    "import os"
   ]
  },
  {
   "cell_type": "code",
   "execution_count": 2,
   "metadata": {},
   "outputs": [],
   "source": [
    "#here grab dataset from folder\n",
    "batch_size = 50\n",
    "img_height = 224\n",
    "img_width = 224\n",
    "ushapes = r\"C:/Users/jereb/Downloads/harp_dataset/HARP_DATASET/dataset_supervised/square_images_size224_cleaned/UShape/\"\n",
    "no_ushapes = r\"C:/Users/jereb/Downloads/harp_dataset/HARP_DATASET/dataset_supervised/square_images_size224_cleaned/NoUShape/\""
   ]
  },
  {
   "cell_type": "code",
   "execution_count": 3,
   "metadata": {},
   "outputs": [
    {
     "name": "stdout",
     "output_type": "stream",
     "text": [
      "total specto: 3990, ushape: 168, noushape: 3822\n",
      "training size: 39, testing size: 997, unlabeled size: 2952\n"
     ]
    }
   ],
   "source": [
    "def extract_spectrograms(path):\n",
    "  os.chdir(path)\n",
    "  spectrograms = []\n",
    "\n",
    "  with os.scandir(path) as files:\n",
    "    for file in files:\n",
    "      if file.name.endswith('.png'):\n",
    "        spectrograms.append(file.path)\n",
    "  return spectrograms\n",
    "\n",
    "ushapes_spectrograms = extract_spectrograms(ushapes)\n",
    "no_ushape_spectrograms = extract_spectrograms(no_ushapes)\n",
    "total_spectograms = ushapes_spectrograms + no_ushape_spectrograms\n",
    "print(f\"total specto: {len(total_spectograms)}, ushape: {len(ushapes_spectrograms)}, noushape: {len(no_ushape_spectrograms)}\")\n",
    "training_size = int(len(total_spectograms) * 0.01)\n",
    "testing_size = int(len(total_spectograms) * 0.25)\n",
    "unlabeled_size = int(len(total_spectograms) * .74)\n",
    "print(f\"training size: {training_size}, testing size: {testing_size}, unlabeled size: {unlabeled_size}\")\n",
    "\n",
    "import random\n",
    "random.shuffle(total_spectograms)\n",
    "\n",
    "\n"
   ]
  },
  {
   "cell_type": "code",
   "execution_count": 4,
   "metadata": {},
   "outputs": [],
   "source": [
    "semi_supervised_path = r\"C:/Users/jereb/Downloads/harp_dataset/HARP_DATASET/dataset_semisupervised/\"\n",
    "train_ushape_path = r\"C:/Users/jereb/Downloads/harp_dataset/HARP_DATASET/dataset_semisupervised/train/ushape/\"\n",
    "train_noushape_path = r\"C:/Users/jereb/Downloads/harp_dataset/HARP_DATASET/dataset_semisupervised/train/noushape/\"\n",
    "test_ushape_path = r\"C:/Users/jereb/Downloads/harp_dataset/HARP_DATASET/dataset_semisupervised/test/ushape/\"\n",
    "test_noushape_path = r\"C:/Users/jereb/Downloads/harp_dataset/HARP_DATASET/dataset_semisupervised/test/noushape/\"\n",
    "unlabeled_path = r\"C:/Users/jereb/Downloads/harp_dataset/HARP_DATASET/dataset_semisupervised/unlabeled/\"\n",
    "#clear folders just in case\n",
    "if len(os.listdir(train_ushape_path))!=0:\n",
    "    for f in os.listdir(train_ushape_path):\n",
    "        os.remove(train_ushape_path+f)\n",
    "if len(os.listdir(train_noushape_path))!=0:\n",
    "    for f in os.listdir(train_noushape_path):\n",
    "        os.remove(train_noushape_path + f)\n",
    "if len(os.listdir(test_ushape_path))!=0:\n",
    "    for f in os.listdir(test_ushape_path):\n",
    "        os.remove(test_ushape_path+f)\n",
    "if len(os.listdir(test_noushape_path))!=0:\n",
    "    for f in os.listdir(test_noushape_path):\n",
    "        os.remove(test_noushape_path+f)\n",
    "\n"
   ]
  },
  {
   "cell_type": "code",
   "execution_count": 5,
   "metadata": {},
   "outputs": [],
   "source": [
    "fold_0 = unlabeled_path + r\"fold_0/\"\n",
    "fold_1 = unlabeled_path + r\"fold_1/\"\n",
    "fold_2 = unlabeled_path + r\"fold_2/\"\n",
    "fold_3 = unlabeled_path + r\"fold_3/\"\n",
    "#clear fold folders just in case\n",
    "if len(os.listdir(fold_0))!=0:\n",
    "    for f in os.listdir(fold_0):\n",
    "        os.remove(fold_0+f)\n",
    "if len(os.listdir(fold_1))!=0:\n",
    "    for f in os.listdir(fold_1):\n",
    "        os.remove(fold_1 + f)\n",
    "if len(os.listdir(fold_2))!=0:\n",
    "    for f in os.listdir(fold_2):\n",
    "        os.remove(fold_2+f)\n",
    "if len(os.listdir(fold_3))!=0:\n",
    "    for f in os.listdir(fold_3):\n",
    "        os.remove(fold_3+f)"
   ]
  },
  {
   "attachments": {},
   "cell_type": "markdown",
   "metadata": {},
   "source": [
    "## adjust below for changing size of amount of data in each the training, testing, and unlabeled"
   ]
  },
  {
   "cell_type": "code",
   "execution_count": 6,
   "metadata": {},
   "outputs": [],
   "source": [
    "third_ushape = 168/3\n",
    "third_noushape = 3822/3 * 0.25\n",
    "#splitting ushape\n",
    "\n",
    "for i, ushape in enumerate(os.listdir(ushapes)):\n",
    "    if(ushape.endswith('png')):\n",
    "        if i<third_ushape:\n",
    "            shutil.copy(ushapes + ushape, train_ushape_path + ushape)\n",
    "        elif i>third_ushape and i<third_ushape*2:\n",
    "            shutil.copy(ushapes + ushape, test_ushape_path + ushape)\n",
    "        elif i>third_ushape*2:\n",
    "            shutil.copy(ushapes + ushape, unlabeled_path + ushape)\n",
    "#spltting noushape\n",
    "for i, noushape in enumerate(os.listdir(no_ushapes)):\n",
    "    if(noushape.endswith('png')):\n",
    "        if i<third_noushape:\n",
    "            shutil.copy(no_ushapes + noushape, train_noushape_path + noushape)\n",
    "        elif i>third_noushape and i<third_noushape*2:\n",
    "            shutil.copy(no_ushapes + noushape, test_noushape_path + noushape)\n",
    "        elif i>third_noushape*2:\n",
    "            shutil.copy(no_ushapes + noushape, unlabeled_path + noushape)"
   ]
  },
  {
   "cell_type": "code",
   "execution_count": 7,
   "metadata": {},
   "outputs": [
    {
     "name": "stdout",
     "output_type": "stream",
     "text": [
      "size of training = 366\n",
      "size of testing = 373\n",
      "size of unlabeled = 3248\n",
      "total spectograms = 3987\n"
     ]
    }
   ],
   "source": [
    "print(f\"size of training = {len(os.listdir(train_ushape_path))+len(os.listdir(train_noushape_path))}\")\n",
    "print(f\"size of testing = {len(os.listdir(test_ushape_path))+len(os.listdir(test_noushape_path))}\")\n",
    "print(f\"size of unlabeled = {len(os.listdir(unlabeled_path))-4}\")\n",
    "print(f\"total spectograms = {len(os.listdir(train_ushape_path))+len(os.listdir(train_noushape_path)) + len(os.listdir(test_ushape_path))+len(os.listdir(test_noushape_path)) +len(os.listdir(unlabeled_path))-4}\")"
   ]
  },
  {
   "cell_type": "code",
   "execution_count": 8,
   "metadata": {},
   "outputs": [],
   "source": [
    "# for i in range(4):\n",
    "#     os.makedirs(f'{unlabeled_path}fold_{i}')"
   ]
  },
  {
   "cell_type": "code",
   "execution_count": 9,
   "metadata": {},
   "outputs": [],
   "source": [
    "#split unlabeled between folds\n",
    "fold_length = len(os.listdir(unlabeled_path))-4\n",
    "for i, unlabeled in enumerate(os.listdir(unlabeled_path)):\n",
    "    if(unlabeled.endswith('png')):\n",
    "        if i<fold_length:\n",
    "            shutil.move(unlabeled_path + unlabeled, fold_0 + unlabeled)\n",
    "        elif i>fold_length and i<fold_length*2:\n",
    "            shutil.move(unlabeled_path + unlabeled, fold_1 + unlabeled)\n",
    "        elif i>fold_length*2 and i<fold_length*3:\n",
    "            shutil.move(unlabeled_path + unlabeled, fold_2 + unlabeled)\n",
    "        elif(i>fold_length*3):\n",
    "            shutil.move(unlabeled_path + unlabeled, fold_3 + unlabeled)"
   ]
  },
  {
   "attachments": {},
   "cell_type": "markdown",
   "metadata": {},
   "source": [
    "## metric to adjust is batch size"
   ]
  },
  {
   "cell_type": "code",
   "execution_count": 10,
   "metadata": {},
   "outputs": [
    {
     "name": "stdout",
     "output_type": "stream",
     "text": [
      "Found 366 images belonging to 2 classes.\n",
      "Found 373 images belonging to 2 classes.\n"
     ]
    }
   ],
   "source": [
    "# Create the ImageDataGenerator object\n",
    "train_datagen = ImageDataGenerator(\n",
    "    featurewise_center=True,\n",
    "    featurewise_std_normalization=True,\n",
    "    rotation_range=20,\n",
    "    width_shift_range=0.2,\n",
    "    height_shift_range=0.2,\n",
    "    horizontal_flip=True,\n",
    ")\n",
    "\n",
    "val_datagen = ImageDataGenerator(\n",
    "    featurewise_center=True,\n",
    "    featurewise_std_normalization=True,\n",
    "    rotation_range=20,\n",
    "    width_shift_range=0.2,\n",
    "    height_shift_range=0.2,\n",
    "    horizontal_flip=True,\n",
    ")\n",
    "\n",
    "\n",
    "#TODO edit parameters after changing lists to be dataframes\n",
    "# Generate batches and augment the images\n",
    "train_generator = train_datagen.flow_from_directory(\n",
    "     r\"C:/Users/jereb/Downloads/harp_dataset/HARP_DATASET/dataset_semisupervised/train\",\n",
    "    # directory='harp/training/',\n",
    "    class_mode='binary',\n",
    "    target_size=(224, 224)\n",
    ")\n",
    "\n",
    "val_generator = val_datagen.flow_from_directory(\n",
    "    r\"C:/Users/jereb/Downloads/harp_dataset/HARP_DATASET/dataset_semisupervised/test\",\n",
    "    # directory='harp/validation/',\n",
    "    class_mode='binary',\n",
    "    target_size=(224, 224)\n",
    ")"
   ]
  },
  {
   "cell_type": "code",
   "execution_count": 11,
   "metadata": {},
   "outputs": [],
   "source": [
    "def create_model(METRICS):\n",
    "  model = Sequential([\n",
    "    #data_augmentation,\n",
    "    layers.Input(shape=(224, 224, 3)),\n",
    "    layers.Rescaling(1./255),\n",
    "    layers.Conv2D(16, 3, padding='same', activation='relu'),\n",
    "    layers.MaxPooling2D(),\n",
    "    layers.Conv2D(32, 3, padding='same', activation='relu'),\n",
    "    layers.MaxPooling2D(),\n",
    "    layers.Conv2D(64, 3, padding='same', activation='relu'),\n",
    "    layers.MaxPooling2D(),\n",
    "    layers.Dropout(0.2),\n",
    "    layers.Flatten(),\n",
    "    layers.Dense(128, activation='relu'),\n",
    "    layers.Dense(1, activation='sigmoid')\n",
    "  ])\n",
    "  model.compile(optimizer='adam',\n",
    "                loss='binary_crossentropy',\n",
    "                metrics=METRICS)\n",
    "  return model"
   ]
  },
  {
   "cell_type": "code",
   "execution_count": 12,
   "metadata": {},
   "outputs": [],
   "source": [
    "METRICS = [\n",
    "      keras.metrics.BinaryAccuracy(name='accuracy'),\n",
    "      keras.metrics.Precision(name='precision'),\n",
    "      keras.metrics.Recall(name='recall'),\n",
    "      keras.metrics.AUC(name='auc'),\n",
    "      keras.metrics.AUC(name='prc', curve='PR'), # precision-recall curve\n",
    "]"
   ]
  },
  {
   "attachments": {},
   "cell_type": "markdown",
   "metadata": {},
   "source": [
    "## another metric to adjust is epoch"
   ]
  },
  {
   "cell_type": "code",
   "execution_count": 13,
   "metadata": {},
   "outputs": [
    {
     "name": "stderr",
     "output_type": "stream",
     "text": [
      "C:\\Users\\jereb\\AppData\\Local\\Temp\\ipykernel_17948\\2063298458.py:3: UserWarning: `Model.fit_generator` is deprecated and will be removed in a future version. Please use `Model.fit`, which supports generators.\n",
      "  history = model.fit_generator(generator=\n",
      "c:\\Users\\jereb\\anaconda3\\envs\\tensor\\lib\\site-packages\\keras\\preprocessing\\image.py:1863: UserWarning: This ImageDataGenerator specifies `featurewise_center`, but it hasn't been fit on any training data. Fit it first by calling `.fit(numpy_data)`.\n",
      "  warnings.warn(\n",
      "c:\\Users\\jereb\\anaconda3\\envs\\tensor\\lib\\site-packages\\keras\\preprocessing\\image.py:1873: UserWarning: This ImageDataGenerator specifies `featurewise_std_normalization`, but it hasn't been fit on any training data. Fit it first by calling `.fit(numpy_data)`.\n",
      "  warnings.warn(\n"
     ]
    },
    {
     "name": "stdout",
     "output_type": "stream",
     "text": [
      "Epoch 1/25\n",
      "12/12 [==============================] - 33s 2s/step - loss: 0.7333 - accuracy: 0.7896 - precision: 0.0435 - recall: 0.0179 - auc: 0.4997 - prc: 0.1478 - val_loss: 0.4423 - val_accuracy: 0.8525 - val_precision: 0.0000e+00 - val_recall: 0.0000e+00 - val_auc: 0.4263 - val_prc: 0.1203\n",
      "Epoch 2/25\n",
      "12/12 [==============================] - 13s 1s/step - loss: 0.4276 - accuracy: 0.8470 - precision: 0.0000e+00 - recall: 0.0000e+00 - auc: 0.5865 - prc: 0.1829 - val_loss: 0.4348 - val_accuracy: 0.8525 - val_precision: 0.0000e+00 - val_recall: 0.0000e+00 - val_auc: 0.4575 - val_prc: 0.1311\n",
      "Epoch 3/25\n",
      "12/12 [==============================] - 9s 789ms/step - loss: 0.4160 - accuracy: 0.8470 - precision: 0.0000e+00 - recall: 0.0000e+00 - auc: 0.6118 - prc: 0.1797 - val_loss: 0.4265 - val_accuracy: 0.8525 - val_precision: 0.0000e+00 - val_recall: 0.0000e+00 - val_auc: 0.5210 - val_prc: 0.1456\n",
      "Epoch 4/25\n",
      "12/12 [==============================] - 10s 815ms/step - loss: 0.4026 - accuracy: 0.8470 - precision: 0.0000e+00 - recall: 0.0000e+00 - auc: 0.6891 - prc: 0.2220 - val_loss: 0.4171 - val_accuracy: 0.8525 - val_precision: 0.0000e+00 - val_recall: 0.0000e+00 - val_auc: 0.5813 - val_prc: 0.1763\n",
      "Epoch 5/25\n",
      "12/12 [==============================] - 9s 783ms/step - loss: 0.3796 - accuracy: 0.8470 - precision: 0.0000e+00 - recall: 0.0000e+00 - auc: 0.7495 - prc: 0.2838 - val_loss: 0.4575 - val_accuracy: 0.8525 - val_precision: 0.0000e+00 - val_recall: 0.0000e+00 - val_auc: 0.5933 - val_prc: 0.1944\n",
      "Epoch 6/25\n",
      "12/12 [==============================] - 9s 771ms/step - loss: 0.3817 - accuracy: 0.8470 - precision: 0.0000e+00 - recall: 0.0000e+00 - auc: 0.7260 - prc: 0.3624 - val_loss: 0.4443 - val_accuracy: 0.8525 - val_precision: 0.0000e+00 - val_recall: 0.0000e+00 - val_auc: 0.6173 - val_prc: 0.2135\n",
      "Epoch 7/25\n",
      "12/12 [==============================] - 9s 779ms/step - loss: 0.3662 - accuracy: 0.8470 - precision: 0.0000e+00 - recall: 0.0000e+00 - auc: 0.7649 - prc: 0.3637 - val_loss: 0.4077 - val_accuracy: 0.8525 - val_precision: 0.0000e+00 - val_recall: 0.0000e+00 - val_auc: 0.6827 - val_prc: 0.2932\n",
      "Epoch 8/25\n",
      "12/12 [==============================] - 9s 777ms/step - loss: 0.3738 - accuracy: 0.8470 - precision: 0.0000e+00 - recall: 0.0000e+00 - auc: 0.7669 - prc: 0.3910 - val_loss: 0.3918 - val_accuracy: 0.8525 - val_precision: 0.0000e+00 - val_recall: 0.0000e+00 - val_auc: 0.6870 - val_prc: 0.2699\n",
      "Epoch 9/25\n",
      "12/12 [==============================] - 9s 778ms/step - loss: 0.3382 - accuracy: 0.8470 - precision: 0.0000e+00 - recall: 0.0000e+00 - auc: 0.8164 - prc: 0.5755 - val_loss: 0.4652 - val_accuracy: 0.8525 - val_precision: 0.0000e+00 - val_recall: 0.0000e+00 - val_auc: 0.6907 - val_prc: 0.3136\n",
      "Epoch 10/25\n",
      "12/12 [==============================] - 9s 788ms/step - loss: 0.3424 - accuracy: 0.8470 - precision: 0.0000e+00 - recall: 0.0000e+00 - auc: 0.8160 - prc: 0.4818 - val_loss: 0.4133 - val_accuracy: 0.8525 - val_precision: 0.0000e+00 - val_recall: 0.0000e+00 - val_auc: 0.6507 - val_prc: 0.3158\n",
      "Epoch 11/25\n",
      "12/12 [==============================] - 10s 805ms/step - loss: 0.3187 - accuracy: 0.8470 - precision: 0.0000e+00 - recall: 0.0000e+00 - auc: 0.8516 - prc: 0.5416 - val_loss: 0.4202 - val_accuracy: 0.8525 - val_precision: 0.0000e+00 - val_recall: 0.0000e+00 - val_auc: 0.6781 - val_prc: 0.3290\n",
      "Epoch 12/25\n",
      "12/12 [==============================] - 9s 773ms/step - loss: 0.3286 - accuracy: 0.8470 - precision: 0.0000e+00 - recall: 0.0000e+00 - auc: 0.8367 - prc: 0.4760 - val_loss: 0.4537 - val_accuracy: 0.8525 - val_precision: 0.0000e+00 - val_recall: 0.0000e+00 - val_auc: 0.6675 - val_prc: 0.3027\n",
      "Epoch 13/25\n",
      "12/12 [==============================] - 9s 769ms/step - loss: 0.3157 - accuracy: 0.8470 - precision: 0.0000e+00 - recall: 0.0000e+00 - auc: 0.8578 - prc: 0.5190 - val_loss: 0.3920 - val_accuracy: 0.8525 - val_precision: 0.0000e+00 - val_recall: 0.0000e+00 - val_auc: 0.7012 - val_prc: 0.3552\n",
      "Epoch 14/25\n",
      "12/12 [==============================] - 9s 750ms/step - loss: 0.2938 - accuracy: 0.8552 - precision: 1.0000 - recall: 0.0536 - auc: 0.8845 - prc: 0.7045 - val_loss: 0.4045 - val_accuracy: 0.8552 - val_precision: 1.0000 - val_recall: 0.0182 - val_auc: 0.6797 - val_prc: 0.2986\n",
      "Epoch 15/25\n",
      "12/12 [==============================] - 9s 763ms/step - loss: 0.2883 - accuracy: 0.8552 - precision: 0.7143 - recall: 0.0893 - auc: 0.8959 - prc: 0.5931 - val_loss: 0.4042 - val_accuracy: 0.8552 - val_precision: 0.6667 - val_recall: 0.0364 - val_auc: 0.6830 - val_prc: 0.2563\n",
      "Epoch 16/25\n",
      "12/12 [==============================] - 9s 771ms/step - loss: 0.2831 - accuracy: 0.8689 - precision: 0.7500 - recall: 0.2143 - auc: 0.8964 - prc: 0.6058 - val_loss: 0.4040 - val_accuracy: 0.8552 - val_precision: 0.6667 - val_recall: 0.0364 - val_auc: 0.6919 - val_prc: 0.3365\n",
      "Epoch 17/25\n",
      "12/12 [==============================] - 9s 787ms/step - loss: 0.2730 - accuracy: 0.8770 - precision: 0.9231 - recall: 0.2143 - auc: 0.9048 - prc: 0.6454 - val_loss: 0.3983 - val_accuracy: 0.8552 - val_precision: 0.5714 - val_recall: 0.0727 - val_auc: 0.7125 - val_prc: 0.3400\n",
      "Epoch 18/25\n",
      "12/12 [==============================] - 9s 771ms/step - loss: 0.2700 - accuracy: 0.8634 - precision: 0.6667 - recall: 0.2143 - auc: 0.9078 - prc: 0.5756 - val_loss: 0.3957 - val_accuracy: 0.8472 - val_precision: 0.4583 - val_recall: 0.2000 - val_auc: 0.7287 - val_prc: 0.3336\n",
      "Epoch 19/25\n",
      "12/12 [==============================] - 9s 782ms/step - loss: 0.2448 - accuracy: 0.8770 - precision: 0.8667 - recall: 0.2321 - auc: 0.9365 - prc: 0.6975 - val_loss: 0.4014 - val_accuracy: 0.8391 - val_precision: 0.4444 - val_recall: 0.3636 - val_auc: 0.7510 - val_prc: 0.3465\n",
      "Epoch 20/25\n",
      "12/12 [==============================] - 13s 1s/step - loss: 0.2242 - accuracy: 0.9016 - precision: 0.8571 - recall: 0.4286 - auc: 0.9495 - prc: 0.7718 - val_loss: 0.4073 - val_accuracy: 0.8284 - val_precision: 0.4082 - val_recall: 0.3636 - val_auc: 0.7367 - val_prc: 0.3236\n",
      "Epoch 21/25\n",
      "12/12 [==============================] - 9s 741ms/step - loss: 0.2204 - accuracy: 0.9016 - precision: 0.8571 - recall: 0.4286 - auc: 0.9512 - prc: 0.7677 - val_loss: 0.4447 - val_accuracy: 0.8472 - val_precision: 0.4583 - val_recall: 0.2000 - val_auc: 0.6881 - val_prc: 0.3152\n",
      "Epoch 22/25\n",
      "12/12 [==============================] - 9s 734ms/step - loss: 0.2554 - accuracy: 0.8907 - precision: 0.7000 - recall: 0.5000 - auc: 0.9179 - prc: 0.6135 - val_loss: 0.4009 - val_accuracy: 0.8525 - val_precision: 0.5000 - val_recall: 0.1273 - val_auc: 0.7208 - val_prc: 0.3185\n",
      "Epoch 23/25\n",
      "12/12 [==============================] - 9s 747ms/step - loss: 0.2496 - accuracy: 0.9071 - precision: 0.8438 - recall: 0.4821 - auc: 0.9287 - prc: 0.7555 - val_loss: 0.4247 - val_accuracy: 0.8150 - val_precision: 0.3250 - val_recall: 0.2364 - val_auc: 0.7096 - val_prc: 0.2681\n",
      "Epoch 24/25\n",
      "12/12 [==============================] - 9s 744ms/step - loss: 0.2376 - accuracy: 0.8962 - precision: 0.7812 - recall: 0.4464 - auc: 0.9357 - prc: 0.6851 - val_loss: 0.3872 - val_accuracy: 0.8579 - val_precision: 0.5556 - val_recall: 0.1818 - val_auc: 0.7392 - val_prc: 0.3577\n",
      "Epoch 25/25\n",
      "12/12 [==============================] - 9s 768ms/step - loss: 0.2508 - accuracy: 0.8716 - precision: 0.5918 - recall: 0.5179 - auc: 0.9187 - prc: 0.5860 - val_loss: 0.4079 - val_accuracy: 0.8391 - val_precision: 0.4242 - val_recall: 0.2545 - val_auc: 0.7126 - val_prc: 0.2991\n"
     ]
    }
   ],
   "source": [
    "epochs = 25\n",
    "model = create_model(METRICS)\n",
    "history = model.fit_generator(generator=\n",
    "  train_generator,\n",
    "  validation_data=val_generator,\n",
    "  epochs=epochs\n",
    ")"
   ]
  },
  {
   "cell_type": "code",
   "execution_count": 14,
   "metadata": {},
   "outputs": [
    {
     "data": {
      "image/png": "[encoded data removed]",
      "text/plain": [
       "<Figure size 800x800 with 2 Axes>"
      ]
     },
     "metadata": {},
     "output_type": "display_data"
    }
   ],
   "source": [
    "acc = history.history['accuracy']\n",
    "val_acc = history.history['val_accuracy']\n",
    "\n",
    "loss = history.history['loss']\n",
    "val_loss = history.history['val_loss']\n",
    "\n",
    "epochs_range = range(epochs)\n",
    "\n",
    "plt.figure(figsize=(8, 8))\n",
    "plt.subplot(1, 2, 1)\n",
    "plt.plot(epochs_range, acc, label='Training Accuracy')\n",
    "plt.plot(epochs_range, val_acc, label='Validation Accuracy')\n",
    "plt.legend(loc='lower right')\n",
    "plt.title('Training and Validation Accuracy')\n",
    "\n",
    "plt.subplot(1, 2, 2)\n",
    "plt.plot(epochs_range, loss, label='Training Loss')\n",
    "plt.plot(epochs_range, val_loss, label='Validation Loss')\n",
    "plt.legend(loc='upper right')\n",
    "plt.title('Training and Validation Loss')\n",
    "plt.show()"
   ]
  }
 ],
 "metadata": {
  "kernelspec": {
   "display_name": "tensor",
   "language": "python",
   "name": "tensor"
  },
  "language_info": {
   "codemirror_mode": {
    "name": "ipython",
    "version": 3
   },
   "file_extension": ".py",
   "mimetype": "text/x-python",
   "name": "python",
   "nbconvert_exporter": "python",
   "pygments_lexer": "ipython3",
   "version": "3.8.16"
  },
  "orig_nbformat": 4
 },
 "nbformat": 4,
 "nbformat_minor": 2
}
